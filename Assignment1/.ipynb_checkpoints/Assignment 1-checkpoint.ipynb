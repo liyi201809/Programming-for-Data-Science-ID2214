{
 "cells": [
  {
   "cell_type": "markdown",
   "metadata": {
    "slideshow": {
     "slide_type": "slide"
    }
   },
   "source": [
    "# Assignment 1 Group no. [enter]\n",
    "### Project members: \n",
    "[Enter Name, email] ...\n",
    "\n",
    "\n",
    "### Declaration:\n",
    "By submitting this solution, it is hereby declared that all individuals listed above have contributed to the solution, either with code that appear in the final solution below, or with code that has been evaluated and compared to the final solution, but for some reason has been excluded. It is also declared that all project members fully understand all parts of the final solution and can explain it upon request.\n",
    "\n",
    "It is furthermore declared that the code below is a contribution by the project members only, and specifically that no part of the solution has been copied from any other source (except for lecture slides at the course ID2214) and no part of the solution has been provided by someone not listed as project member above.\n",
    "\n",
    "It is furthermore declared that it has been understood that no other library/package than the Python 3 standard library, NumPy and pandas may be used in the solution for this assignment.\n",
    "\n",
    "### Instructions\n",
    "All assignments starting with number 1 below are mandatory. Satisfactory solutions\n",
    "will give 1 point (in total). If they in addition are good (all parts work more or less \n",
    "as they should), completed on time (submitted before the deadline in Canvas) and according\n",
    "to the instructions, together with satisfactory solutions of assignments starting with \n",
    "number 2 below, then the assignment will receive 2 points (in total).\n",
    "\n",
    "It is highly recommended that you do not develop the code directly within the notebook\n",
    "but that you copy the comments and test cases to your regular development environment\n",
    "and only when everything works as expected, that you paste your functions into this\n",
    "notebook, do a final testing (all cells should succeed) and submit the whole notebook \n",
    "(a single file) in Canvas (do not forget to fill in your group number and names above).\n"
   ]
  },
  {
   "cell_type": "markdown",
   "metadata": {
    "slideshow": {
     "slide_type": "subslide"
    }
   },
   "source": [
    "## Load NumPy and pandas"
   ]
  },
  {
   "cell_type": "code",
   "execution_count": 1,
   "metadata": {
    "slideshow": {
     "slide_type": "subslide"
    }
   },
   "outputs": [
    {
     "ename": "SyntaxError",
     "evalue": "from __future__ imports must occur at the beginning of the file (<ipython-input-1-a6b24527d4b0>, line 6)",
     "output_type": "error",
     "traceback": [
      "\u001b[1;36m  File \u001b[1;32m\"<ipython-input-1-a6b24527d4b0>\"\u001b[1;36m, line \u001b[1;32m6\u001b[0m\n\u001b[1;31mSyntaxError\u001b[0m\u001b[1;31m:\u001b[0m from __future__ imports must occur at the beginning of the file\n"
     ]
    }
   ],
   "source": [
    "import numpy as np\n",
    "import pandas as pd\n",
    "from __future__ import division     #solve int division problem for python2.0"
   ]
  },
  {
   "cell_type": "markdown",
   "metadata": {},
   "source": [
    "## 1a. Create and apply normalization"
   ]
  },
  {
   "cell_type": "code",
   "execution_count": null,
   "metadata": {},
   "outputs": [],
   "source": [
    "# Insert the functions create_normalization and apply_normalization below (after the comments)\n",
    "#\n",
    "# Input to create_normalization:\n",
    "# df: a dataframe (where the column names \"CLASS\" and \"ID\" have special meaning)\n",
    "# normalizationtype: \"minmax\" (default) or \"zscore\"\n",
    "#\n",
    "# Output from create_normalization:\n",
    "# df: a new dataframe, where each numeric value in a column has been replaced by a normalized value\n",
    "# normalization: a mapping (dictionary) from each column name to a triple, consisting of\n",
    "#                (\"minmax\",min_value,max_value) or (\"zscore\",mean,std)\n",
    "#\n",
    "# Hint 1: First copy the input dataframe and modify the copy (the input dataframe should be kept unchanged)\n",
    "# Hint 2: Consider columns of type \"float\" or \"int\" only (and which are not labeled \"CLASS\" or \"ID\"),\n",
    "#         the other columns should remain unchanged\n",
    "# Hint 3: Take a close look at the lecture slides on data preparation\n",
    "def create_normalization(train_df, normalizationtype = 'zscore'):\n",
    "    dataf = train_df.copy()\n",
    "    columns = [col for col in list(dataf) if (col != 'ID' and col != 'CLASS')]\n",
    "    print(columns)\n",
    "    print(list(dataf))\n",
    "    columns = [col for col in columns if (dataf[col].dtype in ['float64', 'float32', 'int'])]\n",
    "    \n",
    "    normalization = {}\n",
    "    if normalizationtype == 'zscore':\n",
    "        for i in columns: \n",
    "            mu   = dataf[i].mean()\n",
    "            delta= dataf[i].std()\n",
    "            dataf[i] = (dataf[i] - mu)/delta\n",
    "            normalization[i] = ('zscore',mu,delta) \n",
    "    else:                                              \n",
    "        for i in columns:\n",
    "            maxx = dataf[i].max()\n",
    "            minn = dataf[i].min()\n",
    "            dataf[i] = (dataf[i] - minn)/maxx-minn\n",
    "            normalization[i] = ('minmax',minn,maxx)          \n",
    "    return dataf, normalization\n",
    "\n",
    "# Input to apply_normalization:\n",
    "# df: a dataframe\n",
    "# normalization: a mapping (dictionary) from column names to triples (see above)\n",
    "#\n",
    "# Output from apply_normalization:\n",
    "# df: a new dataframe, where each numerical value has been normalized according to the mapping\n",
    "#\n",
    "# Hint 1: First copy the input dataframe and modify the copy (the input dataframe should be kept unchanged)\n",
    "# Hint 2: For minmax-normalization, you may consider to limit the output range to [0,1]\n",
    "\n",
    "def apply_normalization(test_df,normalization):                        # this function used on test_dataset\n",
    "    dataf = test_df.copy()\n",
    "    columns = [col for col in list(dataf) if (col != ['ID', 'CLASS'])]\n",
    "    columns = [col for col in columns if (dataf[col].dtype in ['float64', 'float32', 'int'])]  \n",
    "   \n",
    "    for i in columns:\n",
    "        if normalization[i][0] == 'zscore':\n",
    "            mu   = normalization[i][1]\n",
    "            delta= normalization[i][2]\n",
    "            dataf[i] = (dataf[i] - mu)/delta\n",
    "        else:\n",
    "            minn = normalization[i][1]\n",
    "            maxx = normalization[i][2]\n",
    "            dataf[i] = (dataf[i] - minn)/(maxx-minn)       # limit the elements within [0,1]\n",
    "            dataf[i] = [0 if element < 0 else element for element in dataf[i]]\n",
    "            dataf[i] = [1 if element > 1 else element for element in dataf[i]]\n",
    "    return dataf  "
   ]
  },
  {
   "cell_type": "code",
   "execution_count": 2,
   "metadata": {},
   "outputs": [
    {
     "ename": "NameError",
     "evalue": "name 'pd' is not defined",
     "output_type": "error",
     "traceback": [
      "\u001b[1;31m---------------------------------------------------------------------------\u001b[0m",
      "\u001b[1;31mNameError\u001b[0m                                 Traceback (most recent call last)",
      "\u001b[1;32m<ipython-input-2-ca5da6035851>\u001b[0m in \u001b[0;36m<module>\u001b[1;34m\u001b[0m\n\u001b[0;32m      1\u001b[0m \u001b[1;31m# Test your code (leave this part unchanged)\u001b[0m\u001b[1;33m\u001b[0m\u001b[1;33m\u001b[0m\u001b[1;33m\u001b[0m\u001b[0m\n\u001b[0;32m      2\u001b[0m \u001b[1;33m\u001b[0m\u001b[0m\n\u001b[1;32m----> 3\u001b[1;33m \u001b[0mglass_train_df\u001b[0m \u001b[1;33m=\u001b[0m \u001b[0mpd\u001b[0m\u001b[1;33m.\u001b[0m\u001b[0mread_csv\u001b[0m\u001b[1;33m(\u001b[0m\u001b[1;34m\"glass_train.txt\"\u001b[0m\u001b[1;33m)\u001b[0m\u001b[1;33m\u001b[0m\u001b[1;33m\u001b[0m\u001b[0m\n\u001b[0m\u001b[0;32m      4\u001b[0m \u001b[0mglass_test_df\u001b[0m \u001b[1;33m=\u001b[0m \u001b[0mpd\u001b[0m\u001b[1;33m.\u001b[0m\u001b[0mread_csv\u001b[0m\u001b[1;33m(\u001b[0m\u001b[1;34m\"glass_test.txt\"\u001b[0m\u001b[1;33m)\u001b[0m\u001b[1;33m\u001b[0m\u001b[1;33m\u001b[0m\u001b[0m\n\u001b[0;32m      5\u001b[0m \u001b[1;33m\u001b[0m\u001b[0m\n",
      "\u001b[1;31mNameError\u001b[0m: name 'pd' is not defined"
     ]
    }
   ],
   "source": [
    "# Test your code (leave this part unchanged)\n",
    "\n",
    "glass_train_df = pd.read_csv(\"glass_train.txt\")\n",
    "glass_test_df = pd.read_csv(\"glass_test.txt\")\n",
    "\n",
    "glass_train_norm, normalization = create_normalization(glass_train_df,normalizationtype=\"minmax\")\n",
    "print(\"normalization:\\n\")\n",
    "for f in normalization:\n",
    "    print(\"{}:{}\".format(f,normalization[f]))\n",
    "\n",
    "glass_test_norm = apply_normalization(glass_test_df,normalization)\n",
    "print(\"\\nglass_test_norm:\\n\")\n",
    "glass_test_norm"
   ]
  },
  {
   "cell_type": "markdown",
   "metadata": {},
   "source": [
    "### Comment on assumptions, things that do not work properly, etc.\n"
   ]
  },
  {
   "cell_type": "markdown",
   "metadata": {},
   "source": [
    "## 1b. Create and apply imputation"
   ]
  },
  {
   "cell_type": "code",
   "execution_count": null,
   "metadata": {},
   "outputs": [],
   "source": [
    "# Insert the functions create_imputation and apply_imputation below (after the comments)\n",
    "#\n",
    "# Input to create_imputation:\n",
    "# df: a dataframe (where the column names \"CLASS\" and \"ID\" have special meaning)\n",
    "#\n",
    "# Output from create_imputation:\n",
    "# df: a new dataframe, where each missing numeric value in a column has been replaced by the mean of that column \n",
    "#     and each missing categoric value in a column has been replaced by the mode of that column\n",
    "# imputation: a mapping (dictionary) from column name to value that has replaced missing values\n",
    "#\n",
    "# Hint 1: First copy the input dataframe and modify the copy (the input dataframe should be kept unchanged)\n",
    "# Hint 2: Handle columns of type \"float\" or \"int\" only (and which are not labeled \"CLASS\" or \"ID\") in one way\n",
    "#         and columns of type \"object\" and \"category\" in other ways\n",
    "# Hint 3: Consider using the pandas functions mean() and mode() respectively, as well as fillna\n",
    "# Hint 4: In the rare case of all values in a column being missing, replace numeric values with 0,\n",
    "#         object values with \"\" and category values with the first category (cat.categories[0])  \n",
    "\n",
    "def create_imputation(train_df):\n",
    "    dataf = train_df.copy()\n",
    "    columns = [col for col in list(dataf) if (col != 'ID' or col != 'CLASS')]\n",
    "    imputa = {}\n",
    "    \n",
    "    for i in columns:  \n",
    "        if dataf[i].dtypes == 'object':            ## Categorical \n",
    "            imputa[i]=dataf[i].mode()[0] \n",
    "            dataf[i] = dataf[i].fillna(imputa[i]) \n",
    "            #dataf[i].fillna(mode[0],inplace=True)\n",
    "            if pd.isnull(dataf[i]).all():          # check if all elements are NaN, replace by \"\"\n",
    "                imputa[i] = \"\"\n",
    "                dataf[i] = dataf[i].fillna(\"\") \n",
    "                #dataf[i].fillna(\"\",inplace=True)\n",
    "        else:                                      ## Numeric\n",
    "            imputa[i]=(dataf[i].mean()) \n",
    "            dataf[i] = dataf[i].fillna(imputa[i]) \n",
    "            if pd.isnull(dataf[i]).all():          # check if all elements are NaN, replce by 0\n",
    "                imputa[i] = 0\n",
    "                dataf[i] = dataf[i].fillna(0)                  \n",
    "    return dataf, imputa\n",
    " \n",
    "# Input to apply_imputation:\n",
    "# df: a dataframe\n",
    "# imputation: a mapping (dictionary) from column name to value that should replace missing values\n",
    "#\n",
    "# Output from apply_imputation:\n",
    "# df: a new dataframe, where each missing value has been replaced according to the mapping\n",
    "#\n",
    "# Hint 1: First copy the input dataframe and modify the copy (the input dataframe should be kept unchanged)\n",
    "# Hint 2: Consider using fillna\n",
    "\n",
    "def apply_imputation(test_df, imputa):              # use the imputation obtain from train_dataset\n",
    "    dataf = test_df.copy()\n",
    "    columns = [col for col in list(dataf) if (col != ['ID', 'CLASS'])]       \n",
    "    \n",
    "    for i in columns:  \n",
    "        imputa_value = imputa[i]\n",
    "        dataf[i] = dataf[i].fillna(imputa_value)    # replace NaN of each colume by corresponding Imputation          \n",
    "    return dataf"
   ]
  },
  {
   "cell_type": "code",
   "execution_count": null,
   "metadata": {},
   "outputs": [],
   "source": [
    "# Test your code (leave this part unchanged)\n",
    "\n",
    "anneal_train_df = pd.read_csv(\"anneal_train.txt\")\n",
    "anneal_test_df = pd.read_csv(\"anneal_test.txt\")\n",
    "\n",
    "anneal_train_imp, imputation = create_imputation(anneal_train_df)\n",
    "anneal_test_imp = apply_imputation(anneal_test_df,imputation)\n",
    "\n",
    "print(\"Imputation:\\n\")\n",
    "for f in imputation:\n",
    "    print(\"{}:{}\".format(f,imputation[f]))\n",
    "\n",
    "print(\"\\nNo. of replaced missing values in training data:\\n{}\".format(anneal_train_imp.count()-anneal_train_df.count()))\n",
    "print(\"\\nNo. of replaced missing values in test data:\\n{}\".format(anneal_test_imp.count()-anneal_test_df.count()))\n"
   ]
  },
  {
   "cell_type": "markdown",
   "metadata": {},
   "source": [
    "### Comment on assumptions, things that do not work properly, etc."
   ]
  },
  {
   "cell_type": "markdown",
   "metadata": {},
   "source": [
    "## 1c. Create and apply discretization"
   ]
  },
  {
   "cell_type": "code",
   "execution_count": null,
   "metadata": {},
   "outputs": [],
   "source": [
    "# Insert the functions create_bins and apply_bins below\n",
    "#\n",
    "# Input to create_bins:\n",
    "# df: a dataframe\n",
    "# nobins: no. of bins (default = 10)\n",
    "# bintype: either \"equal-width\" (default) or \"equal-size\" \n",
    "#\n",
    "# Output from create_bins:\n",
    "# df: a new dataframe, where each numeric feature value has been replaced by a categoric (corresponding to some bin)\n",
    "# binning: a mapping (dictionary) from column name to bins (threshold values for the bin)\n",
    "#\n",
    "# Hint 1: First copy the input dataframe and modify the copy (the input dataframe should be kept unchanged)\n",
    "# Hint 2: Discretize columns of type \"float\" or \"int\" only (and which are not labeled \"CLASS\" or \"ID\")\n",
    "# Hint 3: Consider using pd.cut and pd.qcut respectively, with labels=False, retbins=True and duplicates=\"drop\"\n",
    "#         (the last option will avoid errors when not enough bins can be created)\n",
    "# Hint 4: Set all columns in the new dataframe to be of type \"category\"\n",
    "# Hint 5: Set the categories of the discretized features to be [0,...,nobins-1]\n",
    "# Hint 6: Change the first and the last element of each binning to -np.inf and np.inf respectively \n",
    "\n",
    "def create_bins(input_df,nobins,bintype):\n",
    "    train_df = input_df.copy()\n",
    "    columns = [col for col in list(train_df) if (col != 'ID' and col != 'CLASS')]\n",
    "    print(columns)\n",
    "    columns = [col for col in columns if (train_df[col].dtype in ['float64', 'float32', 'int'])]\n",
    "    \n",
    "    bin_dict={}\n",
    "    if bintype == 'equal-size':\n",
    "        for i in columns:\n",
    "            train_df[i], binss= pd.qcut(train_df[i], q=nobins,labels=False, retbins=True, duplicates=\"drop\")\n",
    "            #print(train_df[i].dtypes)\n",
    "            train_df[i] = pd.Categorical(train_df[i])                   # convert int to categorical data\n",
    "            bin_temp = binss.tolist()                                   # convert array into list   \n",
    "            #bin_temp = [round(value,3) for value in bin_temp]          # round to 2 decimal\n",
    "            bin_temp[0]=-np.inf                                         # replace the first and last elements\n",
    "            bin_temp[-1]=np.inf\n",
    "            bin_dict[i]=bin_temp                                        # map into dict\n",
    "    else:\n",
    "        for i in columns:\n",
    "            train_df[i], binss= pd.cut(train_df[i], nobins,labels=False, retbins=True, duplicates=\"drop\")\n",
    "            #print(train_df[i].dtypes)\n",
    "            train_df[i] = pd.Categorical(train_df[i])                   # convert int to categorical data\n",
    "            bin_temp = binss.tolist()                                   # convert array into list   \n",
    "            #bin_temp = [round(value,3) for value in bin_temp]          # round to 2 decimal\n",
    "            bin_temp[0]=-np.inf                                         # replace the first and last elements\n",
    "            bin_temp[-1]=np.inf\n",
    "            bin_dict[i]=bin_temp                                        # map into dict      \n",
    "    return train_df,bin_dict\n",
    "\n",
    "# Input to apply_bins:\n",
    "# df: a dataframe\n",
    "# binning: a mapping (dictionary) from column name to bins (threshold values for the bin)\n",
    "#\n",
    "# Output from apply_bins:\n",
    "# df: a new dataframe, where each numeric feature value has been replaced by a categoric (corresponding to some bin)\n",
    "#\n",
    "# Hint 1: First copy the input dataframe and modify the copy (the input dataframe should be kept unchanged)\n",
    "# Hint 2: Consider using pd.cut \n",
    "# Hint 3: Set all columns in the new dataframe to be of type \"category\"\n",
    "# Hint 4: Set the categories of the discretized features to be [0,...,nobins-1]\n",
    "\n",
    "def apply_bins(input_df, binning):\n",
    "    test_df = input_df.copy()\n",
    "    columns = [col for col in list(test_df) if (col != ['ID', 'CLASS'])]\n",
    "    columns = [col for col in columns if (test_df[col].dtype in ['float64', 'float32', 'int'])]\n",
    "\n",
    "    for i in columns:\n",
    "        binss = binning[i]                                         # get the corresponding bins\n",
    "        labelss = list(range(0,len(binss)-1))                      # labels + 1 = bin values\n",
    "        test_df[i] = pd.cut(test_df[i], bins=binss, labels=labelss, duplicates=\"drop\")\n",
    "        #print(test_df[i].dtypes)                                  # .cut automatically gives categorical data\n",
    "        #test_df[i] = pd.Categorical(test_df[i])                    \n",
    "    return test_df\n"
   ]
  },
  {
   "cell_type": "code",
   "execution_count": null,
   "metadata": {},
   "outputs": [],
   "source": [
    "# Test your code  (leave this part unchanged)\n",
    "\n",
    "glass_train_df = pd.read_csv(\"glass_train.txt\")\n",
    "glass_test_df = pd.read_csv(\"glass_test.txt\")\n",
    "\n",
    "glass_train_disc, binning = create_bins(glass_train_df,nobins=10,bintype=\"equal-size\")\n",
    "print(\"binning:\\n\")\n",
    "for f in binning:\n",
    "    print(\"{}:{}\".format(f,binning[f]))\n",
    "\n",
    "glass_test_disc = apply_bins(glass_test_df,binning)\n",
    "print(\"\\nglass_test_disc:\\n\")\n",
    "glass_test_disc\n"
   ]
  },
  {
   "cell_type": "markdown",
   "metadata": {},
   "source": [
    "### Comment on assumptions, things that do not work properly, etc."
   ]
  },
  {
   "cell_type": "markdown",
   "metadata": {},
   "source": [
    "## 1d. Divide a dataset into a training and a test set"
   ]
  },
  {
   "cell_type": "code",
   "execution_count": null,
   "metadata": {},
   "outputs": [],
   "source": [
    "# Insert the function split below\n",
    "#\n",
    "# Input to split:\n",
    "# df: a dataframe\n",
    "# testfraction: a float in the range (0,1) (default = 0.5)\n",
    "#\n",
    "# Output from split:\n",
    "# trainingdf: a dataframe consisting of a random sample of (1-testfraction) of the rows in df\n",
    "# testdf: a dataframe consisting of the rows in df that are not included in trainingdf\n",
    "#\n",
    "# Hint: You may use np.random.permutation(df.index) to get a permuted list of indexes where a \n",
    "#       prefix corresponds to the test instances, and the suffix to the training instances \n",
    "\n",
    "def split(df, testfraction):\n",
    "    n = df.shape[0]                           #divide by rows\n",
    "    n_test = int(n*testfraction)\n",
    "    index = [i for i in range(n)]\n",
    "    np.random.shuffle(index)\n",
    "    train_id = index[n_test: ]\n",
    "    test_id = index[ :n_test]\n",
    "    return(df.iloc[train_id], df.iloc[test_id])"
   ]
  },
  {
   "cell_type": "code",
   "execution_count": null,
   "metadata": {},
   "outputs": [],
   "source": [
    "# Test your code  (leave this part unchanged)\n",
    "\n",
    "glass_df = pd.read_csv(\"glass.txt\")\n",
    "\n",
    "glass_train, glass_test = split(glass_df,testfraction=0.25)\n",
    "\n",
    "print(\"Training IDs:\\n{}\".format(glass_train[\"ID\"].values))\n",
    "\n",
    "print(\"\\nTest IDs:\\n{}\".format(glass_test[\"ID\"].values))\n",
    "\n",
    "print(\"\\nOverlap: {}\".format(set(glass_train[\"ID\"]).intersection(set(glass_test[\"ID\"]))))\n"
   ]
  },
  {
   "cell_type": "markdown",
   "metadata": {},
   "source": [
    "### Comment on assumptions, things that do not work properly, etc."
   ]
  },
  {
   "cell_type": "markdown",
   "metadata": {},
   "source": [
    "## 1e. Calculate accuracy of a set of predictions"
   ]
  },
  {
   "cell_type": "code",
   "execution_count": null,
   "metadata": {},
   "outputs": [],
   "source": [
    "# Insert the function accuracy below\n",
    "#\n",
    "# Input to accuracy:\n",
    "# df: a dataframe with class labels as column names and each row corresponding to\n",
    "#     a prediction with estimated probabilities for each class\n",
    "# correctlabels: an array (or list) of the correct class label for each prediction\n",
    "#                (the number of correct labels must equal the number of rows in df)\n",
    "#\n",
    "# Output from accuracy:\n",
    "# accuracy: the fraction of cases for which the predicted class label coincides with the correct label\n",
    "#\n",
    "# Hint: In case the label receiving the highest probability is not unique, you may\n",
    "#       resolve that by picking the first (as ordered by the column names) or \n",
    "#       by randomly selecting one of the labels with highest probaility.\n",
    "def accuracy(predictions,correctlabels):\n",
    "    n = predictions.shape[0]\n",
    "    correct = 0\n",
    "    for i in range(n):\n",
    "        df1 = predictions.iloc[i]\n",
    "        pred_label = df1.idxmax()\n",
    "        if (pred_label == correctlabels[i]):\n",
    "            correct += 1\n",
    "    rate = correct/n\n",
    "    return(rate)\n"
   ]
  },
  {
   "cell_type": "code",
   "execution_count": null,
   "metadata": {},
   "outputs": [],
   "source": [
    "# Test your code  (leave this part unchanged)\n",
    "\n",
    "predictions = pd.DataFrame({\"A\":[0.5,0.5,0.5,0.25,0.25],\"B\":[0.5,0.25,0.25,0.5,0.25],\"C\":[0.0,0.25,0.25,0.25,0.5]})\n",
    "predictions\n"
   ]
  },
  {
   "cell_type": "code",
   "execution_count": null,
   "metadata": {},
   "outputs": [],
   "source": [
    "correctlabels = [\"B\",\"A\",\"B\",\"B\",\"C\"]\n",
    "\n",
    "accuracy(predictions,correctlabels) # Note that depending on how ties are resolved the accuracy may be 0.6 or 0.8"
   ]
  },
  {
   "cell_type": "markdown",
   "metadata": {},
   "source": [
    "### Comment on assumptions, things that do not work properly, etc."
   ]
  },
  {
   "cell_type": "markdown",
   "metadata": {},
   "source": [
    "## 2a. Create and apply one-hot encoding"
   ]
  },
  {
   "cell_type": "code",
   "execution_count": null,
   "metadata": {},
   "outputs": [],
   "source": [
    "# Insert the functions create_one_hot and apply_one_hot below\n",
    "def create_one_hot(input_df):\n",
    "    dataf = input_df.copy()\n",
    "    columns = [col for col in list(dataf) if (col != 'CLASS' and 'ID')]\n",
    "    one_hot={}\n",
    "    for col in columns:\n",
    "        if (dataf[col].dtype == 'object' or dataf[col].dtype == 'category'):\n",
    "            \n",
    "            dataf[col] = dataf[col].astype('category')\n",
    "            one_hot[col] = dataf[col].cat.categories\n",
    "            \n",
    "            new_columns = pd.get_dummies(dataf[col],prefix=col,prefix_sep='-',dtype=float)        \n",
    "            dataf = pd.concat([dataf, new_columns], axis=1, sort=False)\n",
    "            dataf = dataf.drop(columns = col, axis = 1)\n",
    "        else:\n",
    "            continue\n",
    "    return dataf,one_hot\n",
    "\n",
    "def apply_one_hot(df_init, one_hot):\n",
    "    #df = df_init.copy()\n",
    "    df2 = df_init.copy()\n",
    "    for col in list(df2):\n",
    "        if(col in one_hot.keys()):\n",
    "            for i in one_hot[col]:            # only go through the category in one_hot, no new category added here      \n",
    "                name = col+'-'+i\n",
    "                new_col = df2[col]==i\n",
    "                new_col = pd.Series(new_col.astype('float'))\n",
    "                df2[name] = new_col\n",
    "            df2 = df2.drop(columns = col, axis = 1)          \n",
    "    return(df2)\n",
    "# Input to create_one_hot:\n",
    "# df: a dataframe\n",
    "#\n",
    "# Output from create_one_hot:\n",
    "# df: a new dataframe, where each categoric feature has been replaced by a set of binary features \n",
    "#    (as many new features as there are possible values)\n",
    "# one_hot: a mapping (dictionary) from column name to a set of categories (possible values for the feature)\n",
    "#\n",
    "# Hint 1: First copy the input dataframe and modify the copy (the input dataframe should be kept unchanged)\n",
    "# Hint 2: Consider columns of type \"object\" or \"category\" only (and which are not labeled \"CLASS\" or \"ID\")\n",
    "# Hint 3: Consider creating new column names by merging the original column name and the categorical value\n",
    "# Hint 4: Set all new columns to be of type \"float\"\n",
    "# Hint 5: Do not forget to remove the original categoric feature\n",
    "#\n",
    "# Input to apply_one_hot:\n",
    "# df: a dataframe\n",
    "# one_hot: a mapping (dictionary) from column name to categories\n",
    "#\n",
    "# Output from apply_one_hot:\n",
    "# df: a new dataframe, where each categoric feature has been replaced by a set of binary features\n",
    "#\n",
    "# Hint: See the above Hints\n",
    "\n",
    "\n"
   ]
  },
  {
   "cell_type": "code",
   "execution_count": null,
   "metadata": {},
   "outputs": [],
   "source": [
    "# Test your code  (leave this part unchanged)\n",
    "\n",
    "tictactoe = pd.read_csv(\"tic-tac-toe.txt\")\n",
    "\n",
    "train_df, test_df = tictactoe, tictactoe # Using your above function\n",
    "\n",
    "new_train, one_hot = create_one_hot(train_df)\n",
    "\n",
    "new_test = apply_one_hot(test_df,one_hot)\n",
    "new_test"
   ]
  },
  {
   "cell_type": "markdown",
   "metadata": {},
   "source": [
    "### Comment on assumptions, things that do not work properly, etc."
   ]
  },
  {
   "cell_type": "markdown",
   "metadata": {},
   "source": [
    "## 2b. Divide a dataset into a number of folds"
   ]
  },
  {
   "cell_type": "code",
   "execution_count": null,
   "metadata": {},
   "outputs": [],
   "source": [
    "# Insert the function folds below\n",
    "#\n",
    "# Input to folds:\n",
    "# df: a dataframe\n",
    "# nofolds: an integer greater than 1 (default = 10)\n",
    "#\n",
    "# Output from folds:\n",
    "# folds: a list (of length = nofolds) dataframes consisting of random non-overlapping, \n",
    "#        approximately equal-sized subsets of the rows in df\n",
    "#\n",
    "# Hint: You may use np.random.permutation(df.index) to get a permuted list of indexes from which a \n",
    "#       prefix corresponds to the test instances, and the suffix to the training instances \n",
    "def folds(inputdf, nofolds = 5):\n",
    "    indexlist = np.random.permutation(inputdf.index)\n",
    "    chunck = np.array_split(indexlist,5)\n",
    "    return chunck"
   ]
  },
  {
   "cell_type": "code",
   "execution_count": null,
   "metadata": {},
   "outputs": [],
   "source": [
    "# Test your code  (leave this part unchanged)\n",
    "\n",
    "glass_df = pd.read_csv(\"glass.txt\")\n",
    "\n",
    "glass_folds = folds(glass_df,nofolds=5)\n",
    "\n",
    "fold_sizes = [len(f) for f in glass_folds]\n",
    "\n",
    "print(\"Fold sizes:{}\\nTotal no. instances: {}\".format(fold_sizes,sum(fold_sizes)))"
   ]
  },
  {
   "cell_type": "markdown",
   "metadata": {},
   "source": [
    "### Comment on assumptions, things that do not work properly, etc."
   ]
  },
  {
   "cell_type": "markdown",
   "metadata": {},
   "source": [
    "## 2c. Calculate Brier score of a set of predictions"
   ]
  },
  {
   "cell_type": "code",
   "execution_count": null,
   "metadata": {},
   "outputs": [],
   "source": [
    "# Insert the function brier_score below\n",
    "#\n",
    "# Input to brier_score:\n",
    "# df: a dataframe with class labels as column names and each row corresponding to\n",
    "#     a prediction with estimated probabilities for each class\n",
    "# correctlabels: an array (or list) of the correct class label for each prediction\n",
    "#                (the number of correct labels must equal the number of rows in df)\n",
    "#\n",
    "# Output from brier_score:\n",
    "# brier_score: the average square error of the predicted probabilties \n",
    "#\n",
    "# Hint: Compare each predicted vector to a vector for each correct label, which is all zeros except \n",
    "#       for at the index of the correct class. The index can be found using np.where(df.columns==l)[0] \n",
    "#       where l is the correct label.\n",
    "\n",
    "\n",
    "\n",
    "def brier_score(pred, correctl):\n",
    "    m,n = df.shape[0],df.shape[1]                                      #  m data with n categories\n",
    "    score = 0\n",
    "    for i in range(m):                              \n",
    "        idx = np.where(df.columns==correctlabels[i])[0]                # return columns index of corresponding category\n",
    "        corr_binary = [1 if j == idx else 0 for j in range(n)]         # create binary list for this category\n",
    "        temp = sum((corr_binary - df.iloc[i,:])**2)\n",
    "        score = score + temp\n",
    "    score = score/m\n",
    "    return score"
   ]
  },
  {
   "cell_type": "code",
   "execution_count": null,
   "metadata": {},
   "outputs": [],
   "source": [
    "# Test your code  (leave this part unchanged)\n",
    "\n",
    "predictions = pd.DataFrame({\"A\":[0.5,0.5,0.5,0.25,0.25],\"B\":[0.5,0.25,0.25,0.5,0.25],\"C\":[0.0,0.25,0.25,0.25,0.5]})\n",
    "\n",
    "correctlabels = [\"B\",\"A\",\"B\",\"B\",\"C\"]\n",
    "\n",
    "brier_score(predictions,correctlabels)"
   ]
  },
  {
   "cell_type": "markdown",
   "metadata": {},
   "source": [
    "### Comment on assumptions, things that do not work properly, etc."
   ]
  },
  {
   "cell_type": "markdown",
   "metadata": {},
   "source": [
    "## 2d. Calculate AUC of a set of predictions"
   ]
  },
  {
   "cell_type": "code",
   "execution_count": null,
   "metadata": {},
   "outputs": [],
   "source": [
    "# Insert the function auc below\n",
    "#\n",
    "# Input to auc:\n",
    "# df: a dataframe with class labels as column names and each row corresponding to\n",
    "#     a prediction with estimated probabilities for each class\n",
    "# correctlabels: an array (or list) of the correct class label for each prediction\n",
    "#                (the number of correct labels must equal the number of rows in df)\n",
    "#\n",
    "# Output from auc:\n",
    "# auc: the weighted area under ROC curve\n",
    "#\n",
    "# Hint 1: Calculate the binary AUC first for each class label c, i.e., treating the\n",
    "#         predicted probability of this class for each instance as a score; the positive\n",
    "#         instances are the ones belonging to class c and the negative instances the rest\n",
    "# Hint 2: When calculating the binary AUC, first find the scores of the positive instances and then\n",
    "#         the scores of the negative instances\n",
    "# Hint 3: You may use a dictionary with a mapping from each score to an array of two numbers; \n",
    "#         the number of positive instances with this score and the number of negative instances with this score\n",
    "# Hint 4: Created a (reversely) sorted (on the scores) list of pairs from the dictionary and\n",
    "#         iterate over this to additively calculate the AUC\n",
    "# Hint 5: For each pair in the above list, there are three cases to consider; the no. of true positives\n",
    "#         (tp_i) is zero, the number of false positives (fp_i) (negatives) is zero, and both are non-zero\n",
    "# Hint 6: Calculate the weighted AUC by summing the individual AUCs weighted by the relative\n",
    "#         frequency of each class (as estimated from the correct labels)\n",
    "def label(predictions,correctlabels):\n",
    "    classes = list(predictions)      # return A,B,C\n",
    "    label_dict={}\n",
    "    for c in classes:\n",
    "        label_dict[c] = [1 if temp == c else 0 for temp in correctlabels]\n",
    "    return(label_dict)\n",
    "\n",
    "\n",
    "def binary_auc_dict(prediction, label):       # inputs are one column of prediction and one column of label\n",
    "    score = np.unique(prediction)             # this .unique directly sort the values\n",
    "    sco_dict = dict.fromkeys(score,[0,0])\n",
    "    for i in range(len(label)):\n",
    "        if label[i] == 1:                     # positive\n",
    "            temp = sco_dict[prediction[i]][0] + 1\n",
    "            sco_dict[prediction[i]] = [temp, sco_dict[prediction[i]][1]]\n",
    "        else:                                 # negtive\n",
    "            temp = sco_dict[prediction[i]][1] + 1\n",
    "            sco_dict[prediction[i]] = [sco_dict[prediction[i]][0], temp]\n",
    "    return sco_dict\n",
    "\n",
    "\n",
    "def binary_auc(tp,fp):\n",
    "    auc = 0\n",
    "    cov_tp = 0\n",
    "    n = len(tp)\n",
    "    for i in range(n):\n",
    "        if fp[i] == 0:\n",
    "            cov_tp +=tp[i]\n",
    "        elif tp[i] == 0:\n",
    "            auc += (cov_tp/sum(tp))*(fp[i]/sum(fp))\n",
    "        else:\n",
    "            auc += (cov_tp/sum(tp))*(fp[i]/sum(fp)) + (tp[i]/sum(tp))*(fp[i]/sum(fp))/2\n",
    "            cov_tp += tp[i]\n",
    "    return(auc)\n",
    "\n",
    "\n",
    "def weighted_auc(auc_dict, correctlabels):\n",
    "    num = len(correctlabels)\n",
    "    frequency = {x:(correctlabels.count(x))/num for x in correctlabels}\n",
    "    final_auc = 0       \n",
    "    #print(frequency)\n",
    "    for classes in list(auc_dict):\n",
    "        final_auc += frequency[classes]*auc_dict[classes][0]\n",
    "    return final_auc\n",
    "\n",
    "\n",
    "def auc(predictions,correctlabels):\n",
    "    aaa = label(predictions,correctlabels)\n",
    "    temp = 0\n",
    "    auc_dict={}\n",
    "    for col in predictions.columns:  \n",
    "        bbb = binary_auc_dict(predictions[col],aaa[col])\n",
    "        pn = np.array(bbb.values())\n",
    "        pos = pn[:,0]\n",
    "        neg = pn[:,1]\n",
    "        print(pos,neg)\n",
    "        temp = binary_auc(pos,neg)\n",
    "        auc_dict[col] = [temp]\n",
    "    print(auc_dict)\n",
    "    auc = weighted_auc(auc_dict,correctlabels)\n",
    "    return(auc)\n",
    "    \n",
    "\n"
   ]
  },
  {
   "cell_type": "code",
   "execution_count": null,
   "metadata": {},
   "outputs": [],
   "source": [
    "# Test your code  (leave this part unchanged)\n",
    "\n",
    "predictions = pd.DataFrame({\"A\":[0.9,0.9,0.6,0.55],\"B\":[0.1,0.1,0.4,0.45]})\n",
    "\n",
    "correctlabels = [\"A\",\"B\",\"B\",\"A\"]\n",
    "\n",
    "auc(predictions,correctlabels)\n",
    "\n",
    "\n"
   ]
  },
  {
   "cell_type": "code",
   "execution_count": null,
   "metadata": {},
   "outputs": [],
   "source": [
    "predictions = pd.DataFrame({\"A\":[0.5,0.5,0.5,0.25,0.25],\"B\":[0.5,0.25,0.25,0.5,0.25],\"C\":[0.0,0.25,0.25,0.25,0.5]})\n",
    "\n",
    "correctlabels = [\"B\",\"A\",\"B\",\"B\",\"C\"]\n",
    "\n",
    "auc(predictions,correctlabels)"
   ]
  },
  {
   "cell_type": "markdown",
   "metadata": {},
   "source": [
    "### Comment on assumptions, things that do not work properly, etc."
   ]
  }
 ],
 "metadata": {
  "celltoolbar": "Slideshow",
  "kernelspec": {
   "display_name": "Python 3",
   "language": "python",
   "name": "python3"
  },
  "language_info": {
   "codemirror_mode": {
    "name": "ipython",
    "version": 3
   },
   "file_extension": ".py",
   "mimetype": "text/x-python",
   "name": "python",
   "nbconvert_exporter": "python",
   "pygments_lexer": "ipython3",
   "version": "3.7.3"
  }
 },
 "nbformat": 4,
 "nbformat_minor": 2
}
